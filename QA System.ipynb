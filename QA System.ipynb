{
 "cells": [
  {
   "cell_type": "code",
   "execution_count": 25,
   "id": "bd296285-c8a9-473a-82d4-792094230466",
   "metadata": {},
   "outputs": [
    {
     "data": {
      "application/vnd.jupyter.widget-view+json": {
       "model_id": "6b51d1154c514c669f18a7e5beaf14e8",
       "version_major": 2,
       "version_minor": 0
      },
      "text/plain": [
       "config.json:   0%|          | 0.00/451 [00:00<?, ?B/s]"
      ]
     },
     "metadata": {},
     "output_type": "display_data"
    },
    {
     "data": {
      "application/vnd.jupyter.widget-view+json": {
       "model_id": "42fe1fd80cb042fd9d3cee7ef7b8ca80",
       "version_major": 2,
       "version_minor": 0
      },
      "text/plain": [
       "model.safetensors:   0%|          | 0.00/265M [00:00<?, ?B/s]"
      ]
     },
     "metadata": {},
     "output_type": "display_data"
    },
    {
     "data": {
      "application/vnd.jupyter.widget-view+json": {
       "model_id": "dece9c46a7134a0cb04c83a25fe4dac4",
       "version_major": 2,
       "version_minor": 0
      },
      "text/plain": [
       "tokenizer_config.json:   0%|          | 0.00/48.0 [00:00<?, ?B/s]"
      ]
     },
     "metadata": {},
     "output_type": "display_data"
    },
    {
     "data": {
      "application/vnd.jupyter.widget-view+json": {
       "model_id": "675dc73a3dc6449a991bbc54316f387e",
       "version_major": 2,
       "version_minor": 0
      },
      "text/plain": [
       "vocab.txt:   0%|          | 0.00/232k [00:00<?, ?B/s]"
      ]
     },
     "metadata": {},
     "output_type": "display_data"
    },
    {
     "data": {
      "application/vnd.jupyter.widget-view+json": {
       "model_id": "dc5cb7913df24917b72c0dff236c75d8",
       "version_major": 2,
       "version_minor": 0
      },
      "text/plain": [
       "tokenizer.json:   0%|          | 0.00/466k [00:00<?, ?B/s]"
      ]
     },
     "metadata": {},
     "output_type": "display_data"
    }
   ],
   "source": [
    "from transformers import DistilBertForQuestionAnswering, DistilBertTokenizer\n",
    "import torch\n",
    "\n",
    "# Load pre-trained DistilBERT model and tokenizer\n",
    "model_name = \"distilbert-base-uncased-distilled-squad\"\n",
    "model = DistilBertForQuestionAnswering.from_pretrained(model_name)\n",
    "tokenizer = DistilBertTokenizer.from_pretrained(model_name)\n"
   ]
  },
  {
   "cell_type": "code",
   "execution_count": 26,
   "id": "d0931bb3-db72-4a5a-a2f2-277c72968cb3",
   "metadata": {},
   "outputs": [],
   "source": [
    "def preprocess(question, context):\n",
    "    inputs = tokenizer.encode_plus(question, context, add_special_tokens=True, return_tensors=\"pt\")\n",
    "    return inputs\n",
    "\n",
    "question = \"What is the capital of France?\"\n",
    "context = \"France, in Western Europe, encompasses medieval cities, alpine villages, and Mediterranean beaches. Its capital, Paris, is famed for its fashion houses, classical art museums including the Louvre and monuments like the Eiffel Tower.\"\n",
    "\n",
    "inputs = preprocess(question, context)\n"
   ]
  },
  {
   "cell_type": "code",
   "execution_count": 27,
   "id": "611d80d5-8145-40e9-9d6a-657ab8626231",
   "metadata": {},
   "outputs": [
    {
     "name": "stdout",
     "output_type": "stream",
     "text": [
      "Answer: paris\n"
     ]
    }
   ],
   "source": [
    "with torch.no_grad():\n",
    "    outputs = model(**inputs)\n",
    "    answer_start_scores = outputs.start_logits\n",
    "    answer_end_scores = outputs.end_logits\n",
    "\n",
    "# Find the tokens with the highest `start` and `end` scores\n",
    "answer_start = torch.argmax(answer_start_scores)\n",
    "answer_end = torch.argmax(answer_end_scores) + 1\n",
    "\n",
    "# Convert tokens to words\n",
    "answer = tokenizer.convert_tokens_to_string(tokenizer.convert_ids_to_tokens(inputs[\"input_ids\"][0][answer_start:answer_end]))\n",
    "print(f\"Answer: {answer}\")"
   ]
  },
  {
   "cell_type": "code",
   "execution_count": null,
   "id": "56f457b0-a9e8-4eb2-b998-e3e1df4c43dd",
   "metadata": {},
   "outputs": [],
   "source": []
  }
 ],
 "metadata": {
  "kernelspec": {
   "display_name": "Python 3 (ipykernel)",
   "language": "python",
   "name": "python3"
  },
  "language_info": {
   "codemirror_mode": {
    "name": "ipython",
    "version": 3
   },
   "file_extension": ".py",
   "mimetype": "text/x-python",
   "name": "python",
   "nbconvert_exporter": "python",
   "pygments_lexer": "ipython3",
   "version": "3.11.7"
  },
  "widgets": {
   "application/vnd.jupyter.widget-state+json": {
    "state": {
     "01b9681f6fc8477183a61a323cddc9df": {
      "model_module": "@jupyter-widgets/controls",
      "model_module_version": "2.0.0",
      "model_name": "HTMLStyleModel",
      "state": {
       "description_width": "",
       "font_size": null,
       "text_color": null
      }
     },
     "02407da53a374cd7b22fa35ba87932f3": {
      "model_module": "@jupyter-widgets/controls",
      "model_module_version": "2.0.0",
      "model_name": "HTMLStyleModel",
      "state": {
       "description_width": "",
       "font_size": null,
       "text_color": null
      }
     },
     "030413f245fb4b998fb7caf2ce7c1171": {
      "model_module": "@jupyter-widgets/controls",
      "model_module_version": "2.0.0",
      "model_name": "HTMLModel",
      "state": {
       "layout": "IPY_MODEL_186e81c52cd0411f8c81ca240966dec7",
       "style": "IPY_MODEL_9fcb12ce5261476bbd191d478ef1bf92",
       "value": " 10.5M/1.34G [00:12&lt;19:44, 1.12MB/s]"
      }
     },
     "03bb5807b7554c129568dc56028c9dfc": {
      "model_module": "@jupyter-widgets/controls",
      "model_module_version": "2.0.0",
      "model_name": "HTMLStyleModel",
      "state": {
       "description_width": "",
       "font_size": null,
       "text_color": null
      }
     },
     "03f0cddcd7ec411fbcb37f52fe6862f9": {
      "model_module": "@jupyter-widgets/base",
      "model_module_version": "2.0.0",
      "model_name": "LayoutModel",
      "state": {}
     },
     "049b5b2408a04c55a55ea9a56254ec7a": {
      "model_module": "@jupyter-widgets/base",
      "model_module_version": "2.0.0",
      "model_name": "LayoutModel",
      "state": {}
     },
     "04d30e907ac44257827c8f5b005891dc": {
      "model_module": "@jupyter-widgets/controls",
      "model_module_version": "2.0.0",
      "model_name": "HTMLModel",
      "state": {
       "layout": "IPY_MODEL_0570a57ef88f4c188ac9e32acc5bde5d",
       "style": "IPY_MODEL_3dd9a22238c64325900d5ffbf3d3ff60",
       "value": " 456k/456k [00:00&lt;00:00, 976kB/s]"
      }
     },
     "0570a57ef88f4c188ac9e32acc5bde5d": {
      "model_module": "@jupyter-widgets/base",
      "model_module_version": "2.0.0",
      "model_name": "LayoutModel",
      "state": {}
     },
     "0887f760c6694aac8114e3e2ed219282": {
      "model_module": "@jupyter-widgets/controls",
      "model_module_version": "2.0.0",
      "model_name": "HTMLStyleModel",
      "state": {
       "description_width": "",
       "font_size": null,
       "text_color": null
      }
     },
     "09f70040645b40a6b8c351d6bcd93fda": {
      "model_module": "@jupyter-widgets/controls",
      "model_module_version": "2.0.0",
      "model_name": "HTMLStyleModel",
      "state": {
       "description_width": "",
       "font_size": null,
       "text_color": null
      }
     },
     "0bb55a48864e4b519219691a087adecb": {
      "model_module": "@jupyter-widgets/base",
      "model_module_version": "2.0.0",
      "model_name": "LayoutModel",
      "state": {}
     },
     "0cb32301f21b4f44a855d8bcf4ac3dcf": {
      "model_module": "@jupyter-widgets/base",
      "model_module_version": "2.0.0",
      "model_name": "LayoutModel",
      "state": {}
     },
     "0cedfa0c98d74f728c1f09e559e7d71d": {
      "model_module": "@jupyter-widgets/base",
      "model_module_version": "2.0.0",
      "model_name": "LayoutModel",
      "state": {}
     },
     "0d1cf307dbad49f1802d5d6f84a65eb0": {
      "model_module": "@jupyter-widgets/controls",
      "model_module_version": "2.0.0",
      "model_name": "HBoxModel",
      "state": {
       "children": [
        "IPY_MODEL_6be22a3b641d417ca3a00a02edcc0d58",
        "IPY_MODEL_d23673af018b4ad48463bfe09f4f0ba7",
        "IPY_MODEL_e27feda889d44961bae8d09be11d3893"
       ],
       "layout": "IPY_MODEL_99bb6c49cdb443e1a246387589984e1d"
      }
     },
     "1289de16038346ffb94678481f681845": {
      "model_module": "@jupyter-widgets/base",
      "model_module_version": "2.0.0",
      "model_name": "LayoutModel",
      "state": {}
     },
     "134bd69b4ab142bda5b73f5b1af71ec4": {
      "model_module": "@jupyter-widgets/controls",
      "model_module_version": "2.0.0",
      "model_name": "HTMLModel",
      "state": {
       "layout": "IPY_MODEL_aeb13352449743a7824754ba411d6412",
       "style": "IPY_MODEL_a687c4b45c394b1b93be7129613b61c2",
       "value": "config.json: 100%"
      }
     },
     "16f383ed213641ffb0dc025c4ae50209": {
      "model_module": "@jupyter-widgets/controls",
      "model_module_version": "2.0.0",
      "model_name": "HTMLModel",
      "state": {
       "layout": "IPY_MODEL_c2ec208d2ddf47b886fd1ade1bf4ec53",
       "style": "IPY_MODEL_73d60a6989da4b81aaf246252c085a08",
       "value": "config.json: 100%"
      }
     },
     "17cb14756150409ba31374f560aefa36": {
      "model_module": "@jupyter-widgets/controls",
      "model_module_version": "2.0.0",
      "model_name": "HTMLStyleModel",
      "state": {
       "description_width": "",
       "font_size": null,
       "text_color": null
      }
     },
     "186e81c52cd0411f8c81ca240966dec7": {
      "model_module": "@jupyter-widgets/base",
      "model_module_version": "2.0.0",
      "model_name": "LayoutModel",
      "state": {}
     },
     "19189b882e884599a0a0319c292f49ac": {
      "model_module": "@jupyter-widgets/controls",
      "model_module_version": "2.0.0",
      "model_name": "ProgressStyleModel",
      "state": {
       "description_width": ""
      }
     },
     "1bbb84e62e33421c8f7e3743e70321bf": {
      "model_module": "@jupyter-widgets/base",
      "model_module_version": "2.0.0",
      "model_name": "LayoutModel",
      "state": {}
     },
     "1d754933db214c4ca48e80c0934b03c0": {
      "model_module": "@jupyter-widgets/controls",
      "model_module_version": "2.0.0",
      "model_name": "HTMLStyleModel",
      "state": {
       "description_width": "",
       "font_size": null,
       "text_color": null
      }
     },
     "1e6fbc9329914a33a2a0c8c19be1d600": {
      "model_module": "@jupyter-widgets/controls",
      "model_module_version": "2.0.0",
      "model_name": "ProgressStyleModel",
      "state": {
       "description_width": ""
      }
     },
     "1f48da6fd5a941c0b82971e71befc3c5": {
      "model_module": "@jupyter-widgets/base",
      "model_module_version": "2.0.0",
      "model_name": "LayoutModel",
      "state": {}
     },
     "1f7cdaf940014c27a4b3bf6012d3f0a8": {
      "model_module": "@jupyter-widgets/base",
      "model_module_version": "2.0.0",
      "model_name": "LayoutModel",
      "state": {}
     },
     "20137c6d87ad42b4914b08e2413e9a7a": {
      "model_module": "@jupyter-widgets/base",
      "model_module_version": "2.0.0",
      "model_name": "LayoutModel",
      "state": {}
     },
     "214769c2ac7e444a9bb6f44cd3c25570": {
      "model_module": "@jupyter-widgets/base",
      "model_module_version": "2.0.0",
      "model_name": "LayoutModel",
      "state": {}
     },
     "221144faaa344879b3a9a9246756c3f8": {
      "model_module": "@jupyter-widgets/controls",
      "model_module_version": "2.0.0",
      "model_name": "HBoxModel",
      "state": {
       "children": [
        "IPY_MODEL_134bd69b4ab142bda5b73f5b1af71ec4",
        "IPY_MODEL_ecada9533d394d31a5528bead5d3db9b",
        "IPY_MODEL_4eedfedaf788477ba6c4c512852a393e"
       ],
       "layout": "IPY_MODEL_614c349dd1664da09d98d3c77ddda4ea"
      }
     },
     "224ac82fbcee40258d6821fcbfe232cf": {
      "model_module": "@jupyter-widgets/controls",
      "model_module_version": "2.0.0",
      "model_name": "HBoxModel",
      "state": {
       "children": [
        "IPY_MODEL_64a61f63abf1445da2c6ad525bab82ef",
        "IPY_MODEL_a994fa02313f428994e2372ca62b70eb",
        "IPY_MODEL_ea64702f1cce4f27a3482afaa8f8283a"
       ],
       "layout": "IPY_MODEL_44806b2755034d4c9947889354d85374"
      }
     },
     "2364a829a61f4c5ba44b103f7a64e8c0": {
      "model_module": "@jupyter-widgets/base",
      "model_module_version": "2.0.0",
      "model_name": "LayoutModel",
      "state": {}
     },
     "24856db4fa59429784146cf7da2a5764": {
      "model_module": "@jupyter-widgets/controls",
      "model_module_version": "2.0.0",
      "model_name": "FloatProgressModel",
      "state": {
       "bar_style": "success",
       "layout": "IPY_MODEL_0cb32301f21b4f44a855d8bcf4ac3dcf",
       "max": 48,
       "style": "IPY_MODEL_f7ae3b55d10f48a7bbb9167816d5947f",
       "value": 48
      }
     },
     "2544161c3d0c4b198e06a5668e56106d": {
      "model_module": "@jupyter-widgets/base",
      "model_module_version": "2.0.0",
      "model_name": "LayoutModel",
      "state": {}
     },
     "27c4ed3a474349e090de3b436a0bcbc5": {
      "model_module": "@jupyter-widgets/controls",
      "model_module_version": "2.0.0",
      "model_name": "HTMLStyleModel",
      "state": {
       "description_width": "",
       "font_size": null,
       "text_color": null
      }
     },
     "2886463236674c91b5facb0d72b20cc5": {
      "model_module": "@jupyter-widgets/controls",
      "model_module_version": "2.0.0",
      "model_name": "HTMLModel",
      "state": {
       "layout": "IPY_MODEL_1f7cdaf940014c27a4b3bf6012d3f0a8",
       "style": "IPY_MODEL_02407da53a374cd7b22fa35ba87932f3",
       "value": " 1.36M/1.36M [00:01&lt;00:00, 1.19MB/s]"
      }
     },
     "2aa8e63ab2f141d6b0e09d125b4827d5": {
      "model_module": "@jupyter-widgets/base",
      "model_module_version": "2.0.0",
      "model_name": "LayoutModel",
      "state": {}
     },
     "2bb7d90f8ee94873b2fc1ba6586dfcfb": {
      "model_module": "@jupyter-widgets/controls",
      "model_module_version": "2.0.0",
      "model_name": "HTMLModel",
      "state": {
       "layout": "IPY_MODEL_ebee537b97eb4f80bc5728ecb471da44",
       "style": "IPY_MODEL_958510ca935a49a99402b7cff6b5c794",
       "value": "merges.txt: 100%"
      }
     },
     "2bf7732be82046588d1a513464a1af64": {
      "model_module": "@jupyter-widgets/controls",
      "model_module_version": "2.0.0",
      "model_name": "FloatProgressModel",
      "state": {
       "bar_style": "success",
       "layout": "IPY_MODEL_608f829f265d48ceb3d427d9428eedc1",
       "max": 456318,
       "style": "IPY_MODEL_19189b882e884599a0a0319c292f49ac",
       "value": 456318
      }
     },
     "2ccca99edc7a4e6da88ebb1953714b1e": {
      "model_module": "@jupyter-widgets/controls",
      "model_module_version": "2.0.0",
      "model_name": "HTMLModel",
      "state": {
       "layout": "IPY_MODEL_86accf110f384527b57e72693b265a1b",
       "style": "IPY_MODEL_6a563516acfb495bbe3102f6e3ee82df",
       "value": " 548M/548M [02:44&lt;00:00, 1.91MB/s]"
      }
     },
     "2fc98a028e3f480c84342b83d9e6956a": {
      "model_module": "@jupyter-widgets/controls",
      "model_module_version": "2.0.0",
      "model_name": "ProgressStyleModel",
      "state": {
       "description_width": ""
      }
     },
     "2fff93b643ee4fbd994ccd52d3c7bfdd": {
      "model_module": "@jupyter-widgets/base",
      "model_module_version": "2.0.0",
      "model_name": "LayoutModel",
      "state": {}
     },
     "369dd06f426543058c2499d41867a0f6": {
      "model_module": "@jupyter-widgets/controls",
      "model_module_version": "2.0.0",
      "model_name": "HTMLStyleModel",
      "state": {
       "description_width": "",
       "font_size": null,
       "text_color": null
      }
     },
     "38d02309313b41bfb618a731c0999b95": {
      "model_module": "@jupyter-widgets/base",
      "model_module_version": "2.0.0",
      "model_name": "LayoutModel",
      "state": {}
     },
     "39ca1a695a1b4c85bc6679f486c48101": {
      "model_module": "@jupyter-widgets/controls",
      "model_module_version": "2.0.0",
      "model_name": "HTMLModel",
      "state": {
       "layout": "IPY_MODEL_74f1693d166245a4b3222bf830951350",
       "style": "IPY_MODEL_7ece293cc2434da192ec14e796f48659",
       "value": "model.safetensors:   1%"
      }
     },
     "3ad395dab1ad4ea9a66247f316d512d0": {
      "model_module": "@jupyter-widgets/controls",
      "model_module_version": "2.0.0",
      "model_name": "HTMLStyleModel",
      "state": {
       "description_width": "",
       "font_size": null,
       "text_color": null
      }
     },
     "3b516b7f8cd74c5883de5e7ddba29c67": {
      "model_module": "@jupyter-widgets/base",
      "model_module_version": "2.0.0",
      "model_name": "LayoutModel",
      "state": {}
     },
     "3dbc022d29fa42d1afff38579ac303b4": {
      "model_module": "@jupyter-widgets/base",
      "model_module_version": "2.0.0",
      "model_name": "LayoutModel",
      "state": {}
     },
     "3dd9a22238c64325900d5ffbf3d3ff60": {
      "model_module": "@jupyter-widgets/controls",
      "model_module_version": "2.0.0",
      "model_name": "HTMLStyleModel",
      "state": {
       "description_width": "",
       "font_size": null,
       "text_color": null
      }
     },
     "3e307dcdb5ac40f5a172fc3bc7c08e1c": {
      "model_module": "@jupyter-widgets/controls",
      "model_module_version": "2.0.0",
      "model_name": "ProgressStyleModel",
      "state": {
       "description_width": ""
      }
     },
     "3f30b7f4a4de4cd88f86ca8ab1a75476": {
      "model_module": "@jupyter-widgets/controls",
      "model_module_version": "2.0.0",
      "model_name": "HTMLModel",
      "state": {
       "layout": "IPY_MODEL_2544161c3d0c4b198e06a5668e56106d",
       "style": "IPY_MODEL_b75189f3f68a41c7afc2ed6ed3677126",
       "value": "tokenizer_config.json: 100%"
      }
     },
     "3fffcec043234ccf8a87245ca3c97043": {
      "model_module": "@jupyter-widgets/controls",
      "model_module_version": "2.0.0",
      "model_name": "HTMLModel",
      "state": {
       "layout": "IPY_MODEL_48bec546a9e347da841628661fbcf2f1",
       "style": "IPY_MODEL_5678c333a2404963b851459bd2f2ef32",
       "value": " 26.0/26.0 [00:00&lt;00:00, 544B/s]"
      }
     },
     "42fe1fd80cb042fd9d3cee7ef7b8ca80": {
      "model_module": "@jupyter-widgets/controls",
      "model_module_version": "2.0.0",
      "model_name": "HBoxModel",
      "state": {
       "children": [
        "IPY_MODEL_ed96ea239bb94882aabadd78bb09f257",
        "IPY_MODEL_7919fd5dc1444768ac78761fb40f781c",
        "IPY_MODEL_4b797b10d33b47a495c205233042a473"
       ],
       "layout": "IPY_MODEL_b9a47a0266f045b3ad989698eb59f4ab"
      }
     },
     "44806b2755034d4c9947889354d85374": {
      "model_module": "@jupyter-widgets/base",
      "model_module_version": "2.0.0",
      "model_name": "LayoutModel",
      "state": {}
     },
     "44c17053efe0441ab67c131254a61aab": {
      "model_module": "@jupyter-widgets/controls",
      "model_module_version": "2.0.0",
      "model_name": "FloatProgressModel",
      "state": {
       "bar_style": "success",
       "layout": "IPY_MODEL_f0569298d03e4d199c8ca08b454aea4f",
       "max": 443,
       "style": "IPY_MODEL_fa0f08b875c740ba8a5aaa3201a72399",
       "value": 443
      }
     },
     "463c8efe2a064073acf21b91171d8a20": {
      "model_module": "@jupyter-widgets/controls",
      "model_module_version": "2.0.0",
      "model_name": "HTMLModel",
      "state": {
       "layout": "IPY_MODEL_7c936de5dd074fa383eb63573c1dc274",
       "style": "IPY_MODEL_e3248499f57b47bb88daa1383d589da2",
       "value": " 443/443 [00:00&lt;00:00, 39.9kB/s]"
      }
     },
     "487d174bf6ff45d9b2dd851786f6d2a6": {
      "model_module": "@jupyter-widgets/controls",
      "model_module_version": "2.0.0",
      "model_name": "HBoxModel",
      "state": {
       "children": [
        "IPY_MODEL_c820e52416cf48b99387ff3987b1be8d",
        "IPY_MODEL_44c17053efe0441ab67c131254a61aab",
        "IPY_MODEL_463c8efe2a064073acf21b91171d8a20"
       ],
       "layout": "IPY_MODEL_38d02309313b41bfb618a731c0999b95"
      }
     },
     "48bec546a9e347da841628661fbcf2f1": {
      "model_module": "@jupyter-widgets/base",
      "model_module_version": "2.0.0",
      "model_name": "LayoutModel",
      "state": {}
     },
     "49f938638a154f7cadda80f644e44301": {
      "model_module": "@jupyter-widgets/controls",
      "model_module_version": "2.0.0",
      "model_name": "HBoxModel",
      "state": {
       "children": [
        "IPY_MODEL_39ca1a695a1b4c85bc6679f486c48101",
        "IPY_MODEL_8b161fb638d34b4db7c9589d7d7ef014",
        "IPY_MODEL_030413f245fb4b998fb7caf2ce7c1171"
       ],
       "layout": "IPY_MODEL_d078b0a4ddb14f5486771a5d4312b08a"
      }
     },
     "4b554bb78902428386756a87d7ae06ef": {
      "model_module": "@jupyter-widgets/controls",
      "model_module_version": "2.0.0",
      "model_name": "HTMLModel",
      "state": {
       "layout": "IPY_MODEL_214769c2ac7e444a9bb6f44cd3c25570",
       "style": "IPY_MODEL_27c4ed3a474349e090de3b436a0bcbc5",
       "value": " 466k/466k [00:00&lt;00:00, 561kB/s]"
      }
     },
     "4b797b10d33b47a495c205233042a473": {
      "model_module": "@jupyter-widgets/controls",
      "model_module_version": "2.0.0",
      "model_name": "HTMLModel",
      "state": {
       "layout": "IPY_MODEL_5cc1644985f84944acef5ea7cac028fc",
       "style": "IPY_MODEL_09f70040645b40a6b8c351d6bcd93fda",
       "value": " 265M/265M [02:27&lt;00:00, 2.66MB/s]"
      }
     },
     "4b9249d4646b433db1ecae1b59472c3a": {
      "model_module": "@jupyter-widgets/base",
      "model_module_version": "2.0.0",
      "model_name": "LayoutModel",
      "state": {}
     },
     "4dc320fbfa974a389af5cb6a0a599aa7": {
      "model_module": "@jupyter-widgets/controls",
      "model_module_version": "2.0.0",
      "model_name": "HTMLModel",
      "state": {
       "layout": "IPY_MODEL_3b516b7f8cd74c5883de5e7ddba29c67",
       "style": "IPY_MODEL_01b9681f6fc8477183a61a323cddc9df",
       "value": " 48.0/48.0 [00:00&lt;00:00, 4.79kB/s]"
      }
     },
     "4eedfedaf788477ba6c4c512852a393e": {
      "model_module": "@jupyter-widgets/controls",
      "model_module_version": "2.0.0",
      "model_name": "HTMLModel",
      "state": {
       "layout": "IPY_MODEL_2aa8e63ab2f141d6b0e09d125b4827d5",
       "style": "IPY_MODEL_504bff5f1d0345dc872f6412f3bfdbdc",
       "value": " 665/665 [00:00&lt;?, ?B/s]"
      }
     },
     "4f501ae3eb064e79b11baca32ad2fd5d": {
      "model_module": "@jupyter-widgets/controls",
      "model_module_version": "2.0.0",
      "model_name": "HBoxModel",
      "state": {
       "children": [
        "IPY_MODEL_6fcb260b4024438585b946e5d0338620",
        "IPY_MODEL_85001c2230b34d10b2f425c3b4fe1437",
        "IPY_MODEL_2886463236674c91b5facb0d72b20cc5"
       ],
       "layout": "IPY_MODEL_6bc7363d3e54483bb50d07f51b07d484"
      }
     },
     "4f7e2be251c84e3cb55492160eda5463": {
      "model_module": "@jupyter-widgets/base",
      "model_module_version": "2.0.0",
      "model_name": "LayoutModel",
      "state": {}
     },
     "502b766f31624146af8bbbdb1e64d8d8": {
      "model_module": "@jupyter-widgets/base",
      "model_module_version": "2.0.0",
      "model_name": "LayoutModel",
      "state": {}
     },
     "504bff5f1d0345dc872f6412f3bfdbdc": {
      "model_module": "@jupyter-widgets/controls",
      "model_module_version": "2.0.0",
      "model_name": "HTMLStyleModel",
      "state": {
       "description_width": "",
       "font_size": null,
       "text_color": null
      }
     },
     "5248eb6691ae420bba2b38f1e8d5069b": {
      "model_module": "@jupyter-widgets/controls",
      "model_module_version": "2.0.0",
      "model_name": "FloatProgressModel",
      "state": {
       "bar_style": "success",
       "layout": "IPY_MODEL_0cedfa0c98d74f728c1f09e559e7d71d",
       "max": 466062,
       "style": "IPY_MODEL_7155cb69e08e4075b750a21eb3d41c84",
       "value": 466062
      }
     },
     "5409af7fb85841fc8d4936512e2bf8f1": {
      "model_module": "@jupyter-widgets/controls",
      "model_module_version": "2.0.0",
      "model_name": "HBoxModel",
      "state": {
       "children": [
        "IPY_MODEL_cb850a649036443d99b2edda8ecadb53",
        "IPY_MODEL_aee322955e7a4a41bef03b8d4a6c731a",
        "IPY_MODEL_3fffcec043234ccf8a87245ca3c97043"
       ],
       "layout": "IPY_MODEL_ace0ea2306c04eb6b6cf42833d38317c"
      }
     },
     "5487967762704b449ffe8e02fe0e8b3a": {
      "model_module": "@jupyter-widgets/base",
      "model_module_version": "2.0.0",
      "model_name": "LayoutModel",
      "state": {}
     },
     "5678c333a2404963b851459bd2f2ef32": {
      "model_module": "@jupyter-widgets/controls",
      "model_module_version": "2.0.0",
      "model_name": "HTMLStyleModel",
      "state": {
       "description_width": "",
       "font_size": null,
       "text_color": null
      }
     },
     "5782a13263404b36ac70abeef672e437": {
      "model_module": "@jupyter-widgets/controls",
      "model_module_version": "2.0.0",
      "model_name": "ProgressStyleModel",
      "state": {
       "description_width": ""
      }
     },
     "587b720cdf6d4506b6765a3fa449dd1b": {
      "model_module": "@jupyter-widgets/controls",
      "model_module_version": "2.0.0",
      "model_name": "HTMLModel",
      "state": {
       "layout": "IPY_MODEL_fc75aaec46434b15a84c165545f4a86d",
       "style": "IPY_MODEL_369dd06f426543058c2499d41867a0f6",
       "value": "model.safetensors: 100%"
      }
     },
     "596d5325eaef4681acceadde7e9134eb": {
      "model_module": "@jupyter-widgets/controls",
      "model_module_version": "2.0.0",
      "model_name": "HTMLStyleModel",
      "state": {
       "description_width": "",
       "font_size": null,
       "text_color": null
      }
     },
     "5cc1644985f84944acef5ea7cac028fc": {
      "model_module": "@jupyter-widgets/base",
      "model_module_version": "2.0.0",
      "model_name": "LayoutModel",
      "state": {}
     },
     "5cca1ad1237b4cbfa4f006bf4973df3a": {
      "model_module": "@jupyter-widgets/controls",
      "model_module_version": "2.0.0",
      "model_name": "HBoxModel",
      "state": {
       "children": [
        "IPY_MODEL_2bb7d90f8ee94873b2fc1ba6586dfcfb",
        "IPY_MODEL_2bf7732be82046588d1a513464a1af64",
        "IPY_MODEL_04d30e907ac44257827c8f5b005891dc"
       ],
       "layout": "IPY_MODEL_20137c6d87ad42b4914b08e2413e9a7a"
      }
     },
     "5df5e95d8ccf4340a34de89d65dcabaa": {
      "model_module": "@jupyter-widgets/controls",
      "model_module_version": "2.0.0",
      "model_name": "HTMLStyleModel",
      "state": {
       "description_width": "",
       "font_size": null,
       "text_color": null
      }
     },
     "608f829f265d48ceb3d427d9428eedc1": {
      "model_module": "@jupyter-widgets/base",
      "model_module_version": "2.0.0",
      "model_name": "LayoutModel",
      "state": {}
     },
     "611bda525fd5464697030935e06a4ba2": {
      "model_module": "@jupyter-widgets/base",
      "model_module_version": "2.0.0",
      "model_name": "LayoutModel",
      "state": {}
     },
     "614c349dd1664da09d98d3c77ddda4ea": {
      "model_module": "@jupyter-widgets/base",
      "model_module_version": "2.0.0",
      "model_name": "LayoutModel",
      "state": {}
     },
     "63c0360570704c64aab3330249933928": {
      "model_module": "@jupyter-widgets/controls",
      "model_module_version": "2.0.0",
      "model_name": "HBoxModel",
      "state": {
       "children": [
        "IPY_MODEL_ae18ecd1988e4b1f92b057e9aec1514a",
        "IPY_MODEL_dfebaf45560d4076b6c0ae107eb460a3",
        "IPY_MODEL_bdf49d3228014399accd59b82d017966"
       ],
       "layout": "IPY_MODEL_90b891324ae84cee911e8475b756a4a8"
      }
     },
     "64a61f63abf1445da2c6ad525bab82ef": {
      "model_module": "@jupyter-widgets/controls",
      "model_module_version": "2.0.0",
      "model_name": "HTMLModel",
      "state": {
       "layout": "IPY_MODEL_68d0516f1b88437485c15760eddaf36c",
       "style": "IPY_MODEL_c68889459fe546e29ed31655c34ee8b3",
       "value": "model.safetensors:  40%"
      }
     },
     "64f9eea0caf54000b23b3b67ecc0a88e": {
      "model_module": "@jupyter-widgets/controls",
      "model_module_version": "2.0.0",
      "model_name": "HTMLModel",
      "state": {
       "layout": "IPY_MODEL_502b766f31624146af8bbbdb1e64d8d8",
       "style": "IPY_MODEL_73384775d19f4dc29d32fe7a7e9371cc",
       "value": " 232k/232k [00:00&lt;00:00, 463kB/s]"
      }
     },
     "675dc73a3dc6449a991bbc54316f387e": {
      "model_module": "@jupyter-widgets/controls",
      "model_module_version": "2.0.0",
      "model_name": "HBoxModel",
      "state": {
       "children": [
        "IPY_MODEL_f0505cd01fe64e8e8d7b2ae45e48a8c2",
        "IPY_MODEL_a9ebf754550f4cf7bfa15535b4b0abe9",
        "IPY_MODEL_64f9eea0caf54000b23b3b67ecc0a88e"
       ],
       "layout": "IPY_MODEL_1289de16038346ffb94678481f681845"
      }
     },
     "68d0516f1b88437485c15760eddaf36c": {
      "model_module": "@jupyter-widgets/base",
      "model_module_version": "2.0.0",
      "model_name": "LayoutModel",
      "state": {}
     },
     "6a563516acfb495bbe3102f6e3ee82df": {
      "model_module": "@jupyter-widgets/controls",
      "model_module_version": "2.0.0",
      "model_name": "HTMLStyleModel",
      "state": {
       "description_width": "",
       "font_size": null,
       "text_color": null
      }
     },
     "6ad3ab87a0584bc8b41080983191d235": {
      "model_module": "@jupyter-widgets/base",
      "model_module_version": "2.0.0",
      "model_name": "LayoutModel",
      "state": {}
     },
     "6b3d59ff955a43c6a3cf91bf90971332": {
      "model_module": "@jupyter-widgets/controls",
      "model_module_version": "2.0.0",
      "model_name": "ProgressStyleModel",
      "state": {
       "description_width": ""
      }
     },
     "6b51d1154c514c669f18a7e5beaf14e8": {
      "model_module": "@jupyter-widgets/controls",
      "model_module_version": "2.0.0",
      "model_name": "HBoxModel",
      "state": {
       "children": [
        "IPY_MODEL_16f383ed213641ffb0dc025c4ae50209",
        "IPY_MODEL_bb4023071d8047518efab656dc8c0dad",
        "IPY_MODEL_a709d0f288f24e179b1c1b2a23b6e380"
       ],
       "layout": "IPY_MODEL_8e1f49b8b35d4c33b036623f5d140559"
      }
     },
     "6bc7363d3e54483bb50d07f51b07d484": {
      "model_module": "@jupyter-widgets/base",
      "model_module_version": "2.0.0",
      "model_name": "LayoutModel",
      "state": {}
     },
     "6be22a3b641d417ca3a00a02edcc0d58": {
      "model_module": "@jupyter-widgets/controls",
      "model_module_version": "2.0.0",
      "model_name": "HTMLModel",
      "state": {
       "layout": "IPY_MODEL_c5ff89041e134f02aa4daedde99d8903",
       "style": "IPY_MODEL_e495985fffe347ae9c8b4a2d85ff5c58",
       "value": "generation_config.json: 100%"
      }
     },
     "6fcb260b4024438585b946e5d0338620": {
      "model_module": "@jupyter-widgets/controls",
      "model_module_version": "2.0.0",
      "model_name": "HTMLModel",
      "state": {
       "layout": "IPY_MODEL_82990b003fca42e3ba1d4116345fa513",
       "style": "IPY_MODEL_1d754933db214c4ca48e80c0934b03c0",
       "value": "tokenizer.json: 100%"
      }
     },
     "7155cb69e08e4075b750a21eb3d41c84": {
      "model_module": "@jupyter-widgets/controls",
      "model_module_version": "2.0.0",
      "model_name": "ProgressStyleModel",
      "state": {
       "description_width": ""
      }
     },
     "71b00892bd544d9db5fc64d0e1859658": {
      "model_module": "@jupyter-widgets/controls",
      "model_module_version": "2.0.0",
      "model_name": "ProgressStyleModel",
      "state": {
       "description_width": ""
      }
     },
     "73338fea8c6c4f83aba2ccc4648caf50": {
      "model_module": "@jupyter-widgets/controls",
      "model_module_version": "2.0.0",
      "model_name": "HTMLStyleModel",
      "state": {
       "description_width": "",
       "font_size": null,
       "text_color": null
      }
     },
     "73384775d19f4dc29d32fe7a7e9371cc": {
      "model_module": "@jupyter-widgets/controls",
      "model_module_version": "2.0.0",
      "model_name": "HTMLStyleModel",
      "state": {
       "description_width": "",
       "font_size": null,
       "text_color": null
      }
     },
     "73d60a6989da4b81aaf246252c085a08": {
      "model_module": "@jupyter-widgets/controls",
      "model_module_version": "2.0.0",
      "model_name": "HTMLStyleModel",
      "state": {
       "description_width": "",
       "font_size": null,
       "text_color": null
      }
     },
     "74f1693d166245a4b3222bf830951350": {
      "model_module": "@jupyter-widgets/base",
      "model_module_version": "2.0.0",
      "model_name": "LayoutModel",
      "state": {}
     },
     "77aca1ff7ef74d00b92413b7fe942c54": {
      "model_module": "@jupyter-widgets/controls",
      "model_module_version": "2.0.0",
      "model_name": "ProgressStyleModel",
      "state": {
       "description_width": ""
      }
     },
     "790fc2833be145948a5e8544d35aba42": {
      "model_module": "@jupyter-widgets/base",
      "model_module_version": "2.0.0",
      "model_name": "LayoutModel",
      "state": {}
     },
     "7919fd5dc1444768ac78761fb40f781c": {
      "model_module": "@jupyter-widgets/controls",
      "model_module_version": "2.0.0",
      "model_name": "FloatProgressModel",
      "state": {
       "bar_style": "success",
       "layout": "IPY_MODEL_3dbc022d29fa42d1afff38579ac303b4",
       "max": 265470036,
       "style": "IPY_MODEL_b0d24ccc14064c81ba6f23b39c396467",
       "value": 265470036
      }
     },
     "7c0cf9b148d8408e9092c68f899e3609": {
      "model_module": "@jupyter-widgets/controls",
      "model_module_version": "2.0.0",
      "model_name": "ProgressStyleModel",
      "state": {
       "description_width": ""
      }
     },
     "7c936de5dd074fa383eb63573c1dc274": {
      "model_module": "@jupyter-widgets/base",
      "model_module_version": "2.0.0",
      "model_name": "LayoutModel",
      "state": {}
     },
     "7ece293cc2434da192ec14e796f48659": {
      "model_module": "@jupyter-widgets/controls",
      "model_module_version": "2.0.0",
      "model_name": "HTMLStyleModel",
      "state": {
       "description_width": "",
       "font_size": null,
       "text_color": null
      }
     },
     "82990b003fca42e3ba1d4116345fa513": {
      "model_module": "@jupyter-widgets/base",
      "model_module_version": "2.0.0",
      "model_name": "LayoutModel",
      "state": {}
     },
     "85001c2230b34d10b2f425c3b4fe1437": {
      "model_module": "@jupyter-widgets/controls",
      "model_module_version": "2.0.0",
      "model_name": "FloatProgressModel",
      "state": {
       "bar_style": "success",
       "layout": "IPY_MODEL_1f48da6fd5a941c0b82971e71befc3c5",
       "max": 1355256,
       "style": "IPY_MODEL_7c0cf9b148d8408e9092c68f899e3609",
       "value": 1355256
      }
     },
     "8636ad197829482db485f77e167f770d": {
      "model_module": "@jupyter-widgets/controls",
      "model_module_version": "2.0.0",
      "model_name": "ProgressStyleModel",
      "state": {
       "description_width": ""
      }
     },
     "86accf110f384527b57e72693b265a1b": {
      "model_module": "@jupyter-widgets/base",
      "model_module_version": "2.0.0",
      "model_name": "LayoutModel",
      "state": {}
     },
     "8b161fb638d34b4db7c9589d7d7ef014": {
      "model_module": "@jupyter-widgets/controls",
      "model_module_version": "2.0.0",
      "model_name": "FloatProgressModel",
      "state": {
       "bar_style": "danger",
       "layout": "IPY_MODEL_c306204855754d6abf150b3e8062bcb2",
       "max": 1340622760,
       "style": "IPY_MODEL_b5b1f25df1024774b25e3d3ac57f4e67",
       "value": 10485760
      }
     },
     "8e1f49b8b35d4c33b036623f5d140559": {
      "model_module": "@jupyter-widgets/base",
      "model_module_version": "2.0.0",
      "model_name": "LayoutModel",
      "state": {}
     },
     "90b891324ae84cee911e8475b756a4a8": {
      "model_module": "@jupyter-widgets/base",
      "model_module_version": "2.0.0",
      "model_name": "LayoutModel",
      "state": {}
     },
     "9580f13786c344e794d4659f50bf8724": {
      "model_module": "@jupyter-widgets/base",
      "model_module_version": "2.0.0",
      "model_name": "LayoutModel",
      "state": {}
     },
     "958510ca935a49a99402b7cff6b5c794": {
      "model_module": "@jupyter-widgets/controls",
      "model_module_version": "2.0.0",
      "model_name": "HTMLStyleModel",
      "state": {
       "description_width": "",
       "font_size": null,
       "text_color": null
      }
     },
     "99bb6c49cdb443e1a246387589984e1d": {
      "model_module": "@jupyter-widgets/base",
      "model_module_version": "2.0.0",
      "model_name": "LayoutModel",
      "state": {}
     },
     "9d53c490e4724466bef0512fef7c4999": {
      "model_module": "@jupyter-widgets/base",
      "model_module_version": "2.0.0",
      "model_name": "LayoutModel",
      "state": {}
     },
     "9fcb12ce5261476bbd191d478ef1bf92": {
      "model_module": "@jupyter-widgets/controls",
      "model_module_version": "2.0.0",
      "model_name": "HTMLStyleModel",
      "state": {
       "description_width": "",
       "font_size": null,
       "text_color": null
      }
     },
     "a687c4b45c394b1b93be7129613b61c2": {
      "model_module": "@jupyter-widgets/controls",
      "model_module_version": "2.0.0",
      "model_name": "HTMLStyleModel",
      "state": {
       "description_width": "",
       "font_size": null,
       "text_color": null
      }
     },
     "a709d0f288f24e179b1c1b2a23b6e380": {
      "model_module": "@jupyter-widgets/controls",
      "model_module_version": "2.0.0",
      "model_name": "HTMLModel",
      "state": {
       "layout": "IPY_MODEL_4f7e2be251c84e3cb55492160eda5463",
       "style": "IPY_MODEL_73338fea8c6c4f83aba2ccc4648caf50",
       "value": " 451/451 [00:00&lt;00:00, 59.8kB/s]"
      }
     },
     "a994fa02313f428994e2372ca62b70eb": {
      "model_module": "@jupyter-widgets/controls",
      "model_module_version": "2.0.0",
      "model_name": "FloatProgressModel",
      "state": {
       "bar_style": "danger",
       "layout": "IPY_MODEL_de0d85acd7b5411db71496b7e3e37ec7",
       "max": 548105171,
       "style": "IPY_MODEL_8636ad197829482db485f77e167f770d",
       "value": 220200960
      }
     },
     "a9ebf754550f4cf7bfa15535b4b0abe9": {
      "model_module": "@jupyter-widgets/controls",
      "model_module_version": "2.0.0",
      "model_name": "FloatProgressModel",
      "state": {
       "bar_style": "success",
       "layout": "IPY_MODEL_9d53c490e4724466bef0512fef7c4999",
       "max": 231508,
       "style": "IPY_MODEL_3e307dcdb5ac40f5a172fc3bc7c08e1c",
       "value": 231508
      }
     },
     "ab443b3876d34263be01b4c6d63d19d0": {
      "model_module": "@jupyter-widgets/controls",
      "model_module_version": "2.0.0",
      "model_name": "HTMLModel",
      "state": {
       "layout": "IPY_MODEL_611bda525fd5464697030935e06a4ba2",
       "style": "IPY_MODEL_0887f760c6694aac8114e3e2ed219282",
       "value": "tokenizer.json: 100%"
      }
     },
     "ace0ea2306c04eb6b6cf42833d38317c": {
      "model_module": "@jupyter-widgets/base",
      "model_module_version": "2.0.0",
      "model_name": "LayoutModel",
      "state": {}
     },
     "ae18ecd1988e4b1f92b057e9aec1514a": {
      "model_module": "@jupyter-widgets/controls",
      "model_module_version": "2.0.0",
      "model_name": "HTMLModel",
      "state": {
       "layout": "IPY_MODEL_0bb55a48864e4b519219691a087adecb",
       "style": "IPY_MODEL_b071af9721ce4f1eab1ab4a5186d2609",
       "value": "vocab.json: 100%"
      }
     },
     "aeb13352449743a7824754ba411d6412": {
      "model_module": "@jupyter-widgets/base",
      "model_module_version": "2.0.0",
      "model_name": "LayoutModel",
      "state": {}
     },
     "aee322955e7a4a41bef03b8d4a6c731a": {
      "model_module": "@jupyter-widgets/controls",
      "model_module_version": "2.0.0",
      "model_name": "FloatProgressModel",
      "state": {
       "bar_style": "success",
       "layout": "IPY_MODEL_5487967762704b449ffe8e02fe0e8b3a",
       "max": 26,
       "style": "IPY_MODEL_77aca1ff7ef74d00b92413b7fe942c54",
       "value": 26
      }
     },
     "b071af9721ce4f1eab1ab4a5186d2609": {
      "model_module": "@jupyter-widgets/controls",
      "model_module_version": "2.0.0",
      "model_name": "HTMLStyleModel",
      "state": {
       "description_width": "",
       "font_size": null,
       "text_color": null
      }
     },
     "b0d24ccc14064c81ba6f23b39c396467": {
      "model_module": "@jupyter-widgets/controls",
      "model_module_version": "2.0.0",
      "model_name": "ProgressStyleModel",
      "state": {
       "description_width": ""
      }
     },
     "b5b1f25df1024774b25e3d3ac57f4e67": {
      "model_module": "@jupyter-widgets/controls",
      "model_module_version": "2.0.0",
      "model_name": "ProgressStyleModel",
      "state": {
       "description_width": ""
      }
     },
     "b75189f3f68a41c7afc2ed6ed3677126": {
      "model_module": "@jupyter-widgets/controls",
      "model_module_version": "2.0.0",
      "model_name": "HTMLStyleModel",
      "state": {
       "description_width": "",
       "font_size": null,
       "text_color": null
      }
     },
     "b91efd4381fd4051a15e7ae11f70fa2f": {
      "model_module": "@jupyter-widgets/base",
      "model_module_version": "2.0.0",
      "model_name": "LayoutModel",
      "state": {}
     },
     "b9a47a0266f045b3ad989698eb59f4ab": {
      "model_module": "@jupyter-widgets/base",
      "model_module_version": "2.0.0",
      "model_name": "LayoutModel",
      "state": {}
     },
     "bb4023071d8047518efab656dc8c0dad": {
      "model_module": "@jupyter-widgets/controls",
      "model_module_version": "2.0.0",
      "model_name": "FloatProgressModel",
      "state": {
       "bar_style": "success",
       "layout": "IPY_MODEL_2fff93b643ee4fbd994ccd52d3c7bfdd",
       "max": 451,
       "style": "IPY_MODEL_1e6fbc9329914a33a2a0c8c19be1d600",
       "value": 451
      }
     },
     "bd024e4c75474912b408f0b587a57c92": {
      "model_module": "@jupyter-widgets/controls",
      "model_module_version": "2.0.0",
      "model_name": "HBoxModel",
      "state": {
       "children": [
        "IPY_MODEL_587b720cdf6d4506b6765a3fa449dd1b",
        "IPY_MODEL_c873402dd03946dfb11227bde96bd84e",
        "IPY_MODEL_2ccca99edc7a4e6da88ebb1953714b1e"
       ],
       "layout": "IPY_MODEL_d35f16c2d6394573a4fd64182356945b"
      }
     },
     "bdf49d3228014399accd59b82d017966": {
      "model_module": "@jupyter-widgets/controls",
      "model_module_version": "2.0.0",
      "model_name": "HTMLModel",
      "state": {
       "layout": "IPY_MODEL_d2ef37a3a6434e0b8c91aac2ae8c206b",
       "style": "IPY_MODEL_f5a5b179c8a64801868fc3bcdd91f738",
       "value": " 1.04M/1.04M [00:00&lt;00:00, 1.39MB/s]"
      }
     },
     "c196e2fce1d24a00bd354e47fff10455": {
      "model_module": "@jupyter-widgets/base",
      "model_module_version": "2.0.0",
      "model_name": "LayoutModel",
      "state": {}
     },
     "c27b2cba279d4fd792c8e9b0185a2adf": {
      "model_module": "@jupyter-widgets/base",
      "model_module_version": "2.0.0",
      "model_name": "LayoutModel",
      "state": {}
     },
     "c2ec208d2ddf47b886fd1ade1bf4ec53": {
      "model_module": "@jupyter-widgets/base",
      "model_module_version": "2.0.0",
      "model_name": "LayoutModel",
      "state": {}
     },
     "c306204855754d6abf150b3e8062bcb2": {
      "model_module": "@jupyter-widgets/base",
      "model_module_version": "2.0.0",
      "model_name": "LayoutModel",
      "state": {}
     },
     "c5ff89041e134f02aa4daedde99d8903": {
      "model_module": "@jupyter-widgets/base",
      "model_module_version": "2.0.0",
      "model_name": "LayoutModel",
      "state": {}
     },
     "c68889459fe546e29ed31655c34ee8b3": {
      "model_module": "@jupyter-widgets/controls",
      "model_module_version": "2.0.0",
      "model_name": "HTMLStyleModel",
      "state": {
       "description_width": "",
       "font_size": null,
       "text_color": null
      }
     },
     "c820e52416cf48b99387ff3987b1be8d": {
      "model_module": "@jupyter-widgets/controls",
      "model_module_version": "2.0.0",
      "model_name": "HTMLModel",
      "state": {
       "layout": "IPY_MODEL_6ad3ab87a0584bc8b41080983191d235",
       "style": "IPY_MODEL_596d5325eaef4681acceadde7e9134eb",
       "value": "config.json: 100%"
      }
     },
     "c873402dd03946dfb11227bde96bd84e": {
      "model_module": "@jupyter-widgets/controls",
      "model_module_version": "2.0.0",
      "model_name": "FloatProgressModel",
      "state": {
       "bar_style": "success",
       "layout": "IPY_MODEL_9580f13786c344e794d4659f50bf8724",
       "max": 548105171,
       "style": "IPY_MODEL_71b00892bd544d9db5fc64d0e1859658",
       "value": 548105171
      }
     },
     "cb850a649036443d99b2edda8ecadb53": {
      "model_module": "@jupyter-widgets/controls",
      "model_module_version": "2.0.0",
      "model_name": "HTMLModel",
      "state": {
       "layout": "IPY_MODEL_b91efd4381fd4051a15e7ae11f70fa2f",
       "style": "IPY_MODEL_3ad395dab1ad4ea9a66247f316d512d0",
       "value": "tokenizer_config.json: 100%"
      }
     },
     "d078b0a4ddb14f5486771a5d4312b08a": {
      "model_module": "@jupyter-widgets/base",
      "model_module_version": "2.0.0",
      "model_name": "LayoutModel",
      "state": {}
     },
     "d23673af018b4ad48463bfe09f4f0ba7": {
      "model_module": "@jupyter-widgets/controls",
      "model_module_version": "2.0.0",
      "model_name": "FloatProgressModel",
      "state": {
       "bar_style": "success",
       "layout": "IPY_MODEL_049b5b2408a04c55a55ea9a56254ec7a",
       "max": 124,
       "style": "IPY_MODEL_6b3d59ff955a43c6a3cf91bf90971332",
       "value": 124
      }
     },
     "d2ef37a3a6434e0b8c91aac2ae8c206b": {
      "model_module": "@jupyter-widgets/base",
      "model_module_version": "2.0.0",
      "model_name": "LayoutModel",
      "state": {}
     },
     "d35f16c2d6394573a4fd64182356945b": {
      "model_module": "@jupyter-widgets/base",
      "model_module_version": "2.0.0",
      "model_name": "LayoutModel",
      "state": {}
     },
     "d8a4b9a4f7714a11a673d58fc25760f3": {
      "model_module": "@jupyter-widgets/controls",
      "model_module_version": "2.0.0",
      "model_name": "HTMLStyleModel",
      "state": {
       "description_width": "",
       "font_size": null,
       "text_color": null
      }
     },
     "dc5cb7913df24917b72c0dff236c75d8": {
      "model_module": "@jupyter-widgets/controls",
      "model_module_version": "2.0.0",
      "model_name": "HBoxModel",
      "state": {
       "children": [
        "IPY_MODEL_ab443b3876d34263be01b4c6d63d19d0",
        "IPY_MODEL_5248eb6691ae420bba2b38f1e8d5069b",
        "IPY_MODEL_4b554bb78902428386756a87d7ae06ef"
       ],
       "layout": "IPY_MODEL_2364a829a61f4c5ba44b103f7a64e8c0"
      }
     },
     "de0d85acd7b5411db71496b7e3e37ec7": {
      "model_module": "@jupyter-widgets/base",
      "model_module_version": "2.0.0",
      "model_name": "LayoutModel",
      "state": {}
     },
     "dece9c46a7134a0cb04c83a25fe4dac4": {
      "model_module": "@jupyter-widgets/controls",
      "model_module_version": "2.0.0",
      "model_name": "HBoxModel",
      "state": {
       "children": [
        "IPY_MODEL_3f30b7f4a4de4cd88f86ca8ab1a75476",
        "IPY_MODEL_24856db4fa59429784146cf7da2a5764",
        "IPY_MODEL_4dc320fbfa974a389af5cb6a0a599aa7"
       ],
       "layout": "IPY_MODEL_fb87b66f7e854549b4664a454e408525"
      }
     },
     "dfebaf45560d4076b6c0ae107eb460a3": {
      "model_module": "@jupyter-widgets/controls",
      "model_module_version": "2.0.0",
      "model_name": "FloatProgressModel",
      "state": {
       "bar_style": "success",
       "layout": "IPY_MODEL_1bbb84e62e33421c8f7e3743e70321bf",
       "max": 1042301,
       "style": "IPY_MODEL_2fc98a028e3f480c84342b83d9e6956a",
       "value": 1042301
      }
     },
     "e27feda889d44961bae8d09be11d3893": {
      "model_module": "@jupyter-widgets/controls",
      "model_module_version": "2.0.0",
      "model_name": "HTMLModel",
      "state": {
       "layout": "IPY_MODEL_4b9249d4646b433db1ecae1b59472c3a",
       "style": "IPY_MODEL_03bb5807b7554c129568dc56028c9dfc",
       "value": " 124/124 [00:00&lt;?, ?B/s]"
      }
     },
     "e3248499f57b47bb88daa1383d589da2": {
      "model_module": "@jupyter-widgets/controls",
      "model_module_version": "2.0.0",
      "model_name": "HTMLStyleModel",
      "state": {
       "description_width": "",
       "font_size": null,
       "text_color": null
      }
     },
     "e495985fffe347ae9c8b4a2d85ff5c58": {
      "model_module": "@jupyter-widgets/controls",
      "model_module_version": "2.0.0",
      "model_name": "HTMLStyleModel",
      "state": {
       "description_width": "",
       "font_size": null,
       "text_color": null
      }
     },
     "ea64702f1cce4f27a3482afaa8f8283a": {
      "model_module": "@jupyter-widgets/controls",
      "model_module_version": "2.0.0",
      "model_name": "HTMLModel",
      "state": {
       "layout": "IPY_MODEL_c196e2fce1d24a00bd354e47fff10455",
       "style": "IPY_MODEL_17cb14756150409ba31374f560aefa36",
       "value": " 220M/548M [04:17&lt;01:27, 3.75MB/s]"
      }
     },
     "ebee537b97eb4f80bc5728ecb471da44": {
      "model_module": "@jupyter-widgets/base",
      "model_module_version": "2.0.0",
      "model_name": "LayoutModel",
      "state": {}
     },
     "ecada9533d394d31a5528bead5d3db9b": {
      "model_module": "@jupyter-widgets/controls",
      "model_module_version": "2.0.0",
      "model_name": "FloatProgressModel",
      "state": {
       "bar_style": "success",
       "layout": "IPY_MODEL_790fc2833be145948a5e8544d35aba42",
       "max": 665,
       "style": "IPY_MODEL_5782a13263404b36ac70abeef672e437",
       "value": 665
      }
     },
     "ed96ea239bb94882aabadd78bb09f257": {
      "model_module": "@jupyter-widgets/controls",
      "model_module_version": "2.0.0",
      "model_name": "HTMLModel",
      "state": {
       "layout": "IPY_MODEL_c27b2cba279d4fd792c8e9b0185a2adf",
       "style": "IPY_MODEL_d8a4b9a4f7714a11a673d58fc25760f3",
       "value": "model.safetensors: 100%"
      }
     },
     "f0505cd01fe64e8e8d7b2ae45e48a8c2": {
      "model_module": "@jupyter-widgets/controls",
      "model_module_version": "2.0.0",
      "model_name": "HTMLModel",
      "state": {
       "layout": "IPY_MODEL_03f0cddcd7ec411fbcb37f52fe6862f9",
       "style": "IPY_MODEL_5df5e95d8ccf4340a34de89d65dcabaa",
       "value": "vocab.txt: 100%"
      }
     },
     "f0569298d03e4d199c8ca08b454aea4f": {
      "model_module": "@jupyter-widgets/base",
      "model_module_version": "2.0.0",
      "model_name": "LayoutModel",
      "state": {}
     },
     "f5a5b179c8a64801868fc3bcdd91f738": {
      "model_module": "@jupyter-widgets/controls",
      "model_module_version": "2.0.0",
      "model_name": "HTMLStyleModel",
      "state": {
       "description_width": "",
       "font_size": null,
       "text_color": null
      }
     },
     "f7ae3b55d10f48a7bbb9167816d5947f": {
      "model_module": "@jupyter-widgets/controls",
      "model_module_version": "2.0.0",
      "model_name": "ProgressStyleModel",
      "state": {
       "description_width": ""
      }
     },
     "fa0f08b875c740ba8a5aaa3201a72399": {
      "model_module": "@jupyter-widgets/controls",
      "model_module_version": "2.0.0",
      "model_name": "ProgressStyleModel",
      "state": {
       "description_width": ""
      }
     },
     "fb87b66f7e854549b4664a454e408525": {
      "model_module": "@jupyter-widgets/base",
      "model_module_version": "2.0.0",
      "model_name": "LayoutModel",
      "state": {}
     },
     "fc75aaec46434b15a84c165545f4a86d": {
      "model_module": "@jupyter-widgets/base",
      "model_module_version": "2.0.0",
      "model_name": "LayoutModel",
      "state": {}
     }
    },
    "version_major": 2,
    "version_minor": 0
   }
  }
 },
 "nbformat": 4,
 "nbformat_minor": 5
}
